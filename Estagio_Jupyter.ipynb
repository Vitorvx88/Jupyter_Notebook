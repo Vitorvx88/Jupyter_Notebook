{
 "cells": [
  {
   "cell_type": "markdown",
   "id": "97ef052f",
   "metadata": {},
   "source": [
    "# Primeira questao\n"
   ]
  },
  {
   "cell_type": "code",
   "execution_count": 1,
   "id": "2c3e6642",
   "metadata": {},
   "outputs": [],
   "source": [
    "%matplotlib inline\n",
    "%config InlineBacked.figure_formats = ['svg']"
   ]
  },
  {
   "cell_type": "markdown",
   "id": "59819e9f",
   "metadata": {},
   "source": [
    "# Bibliotecas\n",
    "\n"
   ]
  },
  {
   "cell_type": "code",
   "execution_count": 2,
   "id": "181f5922",
   "metadata": {},
   "outputs": [],
   "source": [
    "import pandas as pd\n",
    "import seaborn as sns\n",
    "import matplotlib.pyplot as plt\n",
    "import numpy as np"
   ]
  },
  {
   "cell_type": "markdown",
   "id": "088774b7",
   "metadata": {},
   "source": [
    "# Importando o arquivo de dados do  Google Drive"
   ]
  },
  {
   "cell_type": "code",
   "execution_count": 3,
   "id": "93895fa7",
   "metadata": {},
   "outputs": [],
   "source": [
    "#dados = pd.read_csv(\"C:\\Users\\Vitor_2\\Desktop\\Estágio\\dados.txt\",sep='\\t')\n",
    "url = 'https://drive.google.com/file/d/1Y6VCYmSDjQ9NqQFMTApaX6PydAB6t3Y6/view?usp=sharing'\n",
    "url2 = 'https://drive.google.com/uc?id=' + url.split('/')[-2]\n",
    "dados = pd.read_csv(url2, sep = '\\t')"
   ]
  },
  {
   "cell_type": "markdown",
   "id": "980804f9",
   "metadata": {},
   "source": [
    "# Imprimindo todo o conteudo do arquivo\n"
   ]
  },
  {
   "cell_type": "code",
   "execution_count": 4,
   "id": "35b811b3",
   "metadata": {},
   "outputs": [
    {
     "data": {
      "text/html": [
       "<div>\n",
       "<style scoped>\n",
       "    .dataframe tbody tr th:only-of-type {\n",
       "        vertical-align: middle;\n",
       "    }\n",
       "\n",
       "    .dataframe tbody tr th {\n",
       "        vertical-align: top;\n",
       "    }\n",
       "\n",
       "    .dataframe thead th {\n",
       "        text-align: right;\n",
       "    }\n",
       "</style>\n",
       "<table border=\"1\" class=\"dataframe\">\n",
       "  <thead>\n",
       "    <tr style=\"text-align: right;\">\n",
       "      <th></th>\n",
       "      <th>dt_pag</th>\n",
       "      <th>vl_pag</th>\n",
       "      <th>dias_para_pagamento</th>\n",
       "    </tr>\n",
       "  </thead>\n",
       "  <tbody>\n",
       "    <tr>\n",
       "      <th>0</th>\n",
       "      <td>2020-07-24</td>\n",
       "      <td>4925.00</td>\n",
       "      <td>185</td>\n",
       "    </tr>\n",
       "    <tr>\n",
       "      <th>1</th>\n",
       "      <td>2020-07-01</td>\n",
       "      <td>97764.81</td>\n",
       "      <td>167</td>\n",
       "    </tr>\n",
       "    <tr>\n",
       "      <th>2</th>\n",
       "      <td>2020-07-01</td>\n",
       "      <td>19931.24</td>\n",
       "      <td>167</td>\n",
       "    </tr>\n",
       "    <tr>\n",
       "      <th>3</th>\n",
       "      <td>2020-07-01</td>\n",
       "      <td>97764.81</td>\n",
       "      <td>149</td>\n",
       "    </tr>\n",
       "    <tr>\n",
       "      <th>4</th>\n",
       "      <td>2020-07-01</td>\n",
       "      <td>19931.24</td>\n",
       "      <td>149</td>\n",
       "    </tr>\n",
       "    <tr>\n",
       "      <th>...</th>\n",
       "      <td>...</td>\n",
       "      <td>...</td>\n",
       "      <td>...</td>\n",
       "    </tr>\n",
       "    <tr>\n",
       "      <th>2614</th>\n",
       "      <td>2020-08-28</td>\n",
       "      <td>8697.73</td>\n",
       "      <td>0</td>\n",
       "    </tr>\n",
       "    <tr>\n",
       "      <th>2615</th>\n",
       "      <td>2020-08-28</td>\n",
       "      <td>4490.00</td>\n",
       "      <td>0</td>\n",
       "    </tr>\n",
       "    <tr>\n",
       "      <th>2616</th>\n",
       "      <td>2020-08-28</td>\n",
       "      <td>120.00</td>\n",
       "      <td>0</td>\n",
       "    </tr>\n",
       "    <tr>\n",
       "      <th>2617</th>\n",
       "      <td>2020-08-28</td>\n",
       "      <td>5910.00</td>\n",
       "      <td>0</td>\n",
       "    </tr>\n",
       "    <tr>\n",
       "      <th>2618</th>\n",
       "      <td>2020-09-11</td>\n",
       "      <td>46607.00</td>\n",
       "      <td>0</td>\n",
       "    </tr>\n",
       "  </tbody>\n",
       "</table>\n",
       "<p>2619 rows × 3 columns</p>\n",
       "</div>"
      ],
      "text/plain": [
       "          dt_pag    vl_pag  dias_para_pagamento\n",
       "0     2020-07-24   4925.00                  185\n",
       "1     2020-07-01  97764.81                  167\n",
       "2     2020-07-01  19931.24                  167\n",
       "3     2020-07-01  97764.81                  149\n",
       "4     2020-07-01  19931.24                  149\n",
       "...          ...       ...                  ...\n",
       "2614  2020-08-28   8697.73                    0\n",
       "2615  2020-08-28   4490.00                    0\n",
       "2616  2020-08-28    120.00                    0\n",
       "2617  2020-08-28   5910.00                    0\n",
       "2618  2020-09-11  46607.00                    0\n",
       "\n",
       "[2619 rows x 3 columns]"
      ]
     },
     "execution_count": 4,
     "metadata": {},
     "output_type": "execute_result"
    }
   ],
   "source": [
    "dados"
   ]
  },
  {
   "cell_type": "markdown",
   "id": "9f7d3f13",
   "metadata": {},
   "source": [
    "# Ordenando por Data"
   ]
  },
  {
   "cell_type": "code",
   "execution_count": 5,
   "id": "cbea30b1",
   "metadata": {},
   "outputs": [
    {
     "data": {
      "text/html": [
       "<div>\n",
       "<style scoped>\n",
       "    .dataframe tbody tr th:only-of-type {\n",
       "        vertical-align: middle;\n",
       "    }\n",
       "\n",
       "    .dataframe tbody tr th {\n",
       "        vertical-align: top;\n",
       "    }\n",
       "\n",
       "    .dataframe thead th {\n",
       "        text-align: right;\n",
       "    }\n",
       "</style>\n",
       "<table border=\"1\" class=\"dataframe\">\n",
       "  <thead>\n",
       "    <tr style=\"text-align: right;\">\n",
       "      <th></th>\n",
       "      <th>dt_pag</th>\n",
       "      <th>vl_pag</th>\n",
       "      <th>dias_para_pagamento</th>\n",
       "    </tr>\n",
       "  </thead>\n",
       "  <tbody>\n",
       "    <tr>\n",
       "      <th>2465</th>\n",
       "      <td>2020-01-07</td>\n",
       "      <td>4000.00</td>\n",
       "      <td>0</td>\n",
       "    </tr>\n",
       "    <tr>\n",
       "      <th>2070</th>\n",
       "      <td>2020-01-08</td>\n",
       "      <td>1400.00</td>\n",
       "      <td>6</td>\n",
       "    </tr>\n",
       "    <tr>\n",
       "      <th>1831</th>\n",
       "      <td>2020-01-10</td>\n",
       "      <td>840.00</td>\n",
       "      <td>8</td>\n",
       "    </tr>\n",
       "    <tr>\n",
       "      <th>1830</th>\n",
       "      <td>2020-01-10</td>\n",
       "      <td>1150.00</td>\n",
       "      <td>8</td>\n",
       "    </tr>\n",
       "    <tr>\n",
       "      <th>2199</th>\n",
       "      <td>2020-01-10</td>\n",
       "      <td>797.00</td>\n",
       "      <td>4</td>\n",
       "    </tr>\n",
       "    <tr>\n",
       "      <th>...</th>\n",
       "      <td>...</td>\n",
       "      <td>...</td>\n",
       "      <td>...</td>\n",
       "    </tr>\n",
       "    <tr>\n",
       "      <th>1371</th>\n",
       "      <td>2020-09-15</td>\n",
       "      <td>15279.42</td>\n",
       "      <td>14</td>\n",
       "    </tr>\n",
       "    <tr>\n",
       "      <th>1370</th>\n",
       "      <td>2020-09-15</td>\n",
       "      <td>15279.42</td>\n",
       "      <td>14</td>\n",
       "    </tr>\n",
       "    <tr>\n",
       "      <th>1369</th>\n",
       "      <td>2020-09-15</td>\n",
       "      <td>15279.42</td>\n",
       "      <td>14</td>\n",
       "    </tr>\n",
       "    <tr>\n",
       "      <th>1391</th>\n",
       "      <td>2020-09-15</td>\n",
       "      <td>15279.42</td>\n",
       "      <td>13</td>\n",
       "    </tr>\n",
       "    <tr>\n",
       "      <th>1372</th>\n",
       "      <td>2020-09-15</td>\n",
       "      <td>15279.42</td>\n",
       "      <td>14</td>\n",
       "    </tr>\n",
       "  </tbody>\n",
       "</table>\n",
       "<p>2619 rows × 3 columns</p>\n",
       "</div>"
      ],
      "text/plain": [
       "          dt_pag    vl_pag  dias_para_pagamento\n",
       "2465  2020-01-07   4000.00                    0\n",
       "2070  2020-01-08   1400.00                    6\n",
       "1831  2020-01-10    840.00                    8\n",
       "1830  2020-01-10   1150.00                    8\n",
       "2199  2020-01-10    797.00                    4\n",
       "...          ...       ...                  ...\n",
       "1371  2020-09-15  15279.42                   14\n",
       "1370  2020-09-15  15279.42                   14\n",
       "1369  2020-09-15  15279.42                   14\n",
       "1391  2020-09-15  15279.42                   13\n",
       "1372  2020-09-15  15279.42                   14\n",
       "\n",
       "[2619 rows x 3 columns]"
      ]
     },
     "execution_count": 5,
     "metadata": {},
     "output_type": "execute_result"
    }
   ],
   "source": [
    "dados.sort_values(\"dt_pag\")"
   ]
  },
  {
   "cell_type": "markdown",
   "id": "98e6d3ee",
   "metadata": {},
   "source": [
    "# Separando a Data de Cada Mês"
   ]
  },
  {
   "cell_type": "code",
   "execution_count": 6,
   "id": "04522389",
   "metadata": {
    "scrolled": true
   },
   "outputs": [
    {
     "name": "stdout",
     "output_type": "stream",
     "text": [
      "Jan percentil: 119759.45899999978\n",
      "Fer percentil: 301876.1075\n",
      "Mar percentil: 211317.90499999962\n",
      "Abr percentil: 221152.42849999992\n",
      "Mai percentil: 221679.91\n",
      "Jun percentil: 221071.2775\n",
      "Julh percentil: 217839.0699999999\n",
      "Agos percentil: 205873.59999999992\n",
      "Setem percentil: 211618.70299999943\n",
      "Out percentil: 119759.45899999978\n",
      "Nov percentil: 119759.45899999978\n",
      "Dez percentil: 119759.45899999978\n"
     ]
    }
   ],
   "source": [
    "Jan=dados[dados['dt_pag'].between('2020-01-01', '2020-01-31')]\n",
    "Fer=dados[dados['dt_pag'].between('2020-01-01', '2020-02-28')]\n",
    "Mar=dados[dados['dt_pag'].between('2020-01-01', '2020-03-31')]\n",
    "Abr=dados[dados['dt_pag'].between('2020-01-01', '2020-04-30')]\n",
    "Mai=dados[dados['dt_pag'].between('2020-01-01', '2020-05-31')]\n",
    "Jun=dados[dados['dt_pag'].between('2020-01-01', '2020-06-30')]\n",
    "Julh=dados[dados['dt_pag'].between('2020-01-01', '2020-07-31')]\n",
    "Agos=dados[dados['dt_pag'].between('2020-01-01', '2020-08-31')]\n",
    "Setem=dados[dados['dt_pag'].between('2020-01-01', '2020-09-30')]\n",
    "Out=dados[dados['dt_pag'].between('2020-01-01', '2020-010-31')]\n",
    "Nov=dados[dados['dt_pag'].between('2020-01-01', '2020-011-30')]\n",
    "Dez=dados[dados['dt_pag'].between('2020-01-01', '2020-012-31')]\n",
    "#print(Jan, Fer, Mar, Abr,  Mai, Jun,Julh, Agos, Setem, Out, Nov, Dez)\n",
    "#print(Jan)\n",
    "\n",
    "\n",
    "#REMOVENDO OS 95% DOS VALORES MAIS BAIXO E DEIXANDO APENAS OS 5% MAIORES\n",
    "Jan = Jan[\"vl_pag\"]\n",
    "print(\"Jan percentil:\", Jan.quantile(0.95))\n",
    "Jan = np.where(Jan >119759.45, 119759.45,Jan)\n",
    "#Jan[\"vl_pag\"] =np.where(Jan[\"vl_pag\"] >119759.45, 119759.45,Jan[\"vl_pag\"])\n",
    "Fer = Fer[\"vl_pag\"]\n",
    "print(\"Fer percentil:\",Fer.quantile(0.95))\n",
    "Fer = np.where(Fer >301876.10, 301876.10,Fer)\n",
    "\n",
    "Mar = Mar[\"vl_pag\"]\n",
    "print(\"Mar percentil:\",Mar.quantile(0.95))\n",
    "Mar = np.where(Mar >211317.90, 211317.90,Mar)\n",
    "\n",
    "Abr = Abr[\"vl_pag\"]\n",
    "print(\"Abr percentil:\",Abr.quantile(0.95))\n",
    "Abr = np.where(Abr >221152.42, 221152.42,Abr)\n",
    "\n",
    "Mai = Mai[\"vl_pag\"]\n",
    "print(\"Mai percentil:\",Mai.quantile(0.95))\n",
    "Mai = np.where(Mai >221679.91, 221679.91,Mai)\n",
    "\n",
    "Jun = Jun[\"vl_pag\"]\n",
    "print(\"Jun percentil:\",Jun.quantile(0.95))\n",
    "Jun = np.where(Jun >221071.27, 221071.27,Jun)\n",
    "\n",
    "Julh = Julh[\"vl_pag\"]\n",
    "print(\"Julh percentil:\",Julh.quantile(0.95))\n",
    "Julh = np.where(Julh >217839.06, 217839.06,Julh)\n",
    "\n",
    "Agos = Agos[\"vl_pag\"]\n",
    "print(\"Agos percentil:\",Agos.quantile(0.95))\n",
    "Agos = np.where(Agos >205873.59, 205873.59,Agos)\n",
    "\n",
    "Setem = Setem[\"vl_pag\"]\n",
    "print(\"Setem percentil:\",Setem.quantile(0.95))\n",
    "Setem = np.where(Setem >211618.70, 211618.70,Setem)\n",
    "\n",
    "Out = Out[\"vl_pag\"]\n",
    "print(\"Out percentil:\",Out.quantile(0.95))\n",
    "Out = np.where(Out >119759.45, 119759.45,Out)\n",
    "\n",
    "Nov = Nov[\"vl_pag\"]\n",
    "print(\"Nov percentil:\",Nov.quantile(0.95))\n",
    "Nov = np.where(Nov >119759.45, 119759.45,Nov)\n",
    "\n",
    "Dez = Dez[\"vl_pag\"]\n",
    "print(\"Dez percentil:\",Dez.quantile(0.95))\n",
    "Dez = np.where(Dez >119759.45, 119759.45,Dez)\n",
    "\n",
    "#ARMAZENANDO TODOS OS MESES EM UMA UNICA VARIAVEL\n",
    "Ano = [Jan,Fer,Mar,Abr,Mai,Jun,Julh,Agos,Setem,Out,Nov,Dez]"
   ]
  },
  {
   "cell_type": "markdown",
   "id": "5f45fb74",
   "metadata": {},
   "source": [
    "# Gerando o Diagrama de Caixa"
   ]
  },
  {
   "cell_type": "code",
   "execution_count": 7,
   "id": "505ffca1",
   "metadata": {},
   "outputs": [
    {
     "data": {
      "image/png": "[encoded data removed]",
      "text/plain": [
       "<Figure size 432x288 with 1 Axes>"
      ]
     },
     "metadata": {
      "needs_background": "light"
     },
     "output_type": "display_data"
    }
   ],
   "source": [
    "plt.boxplot(Ano, showfliers = True)\n",
    "plt.xticks([],[])\n",
    "plt.show()"
   ]
  },
  {
   "cell_type": "code",
   "execution_count": 8,
   "id": "31cd021a",
   "metadata": {},
   "outputs": [
    {
     "data": {
      "image/png": "[encoded data removed]",
      "text/plain": [
       "<Figure size 432x288 with 1 Axes>"
      ]
     },
     "metadata": {
      "needs_background": "light"
     },
     "output_type": "display_data"
    }
   ],
   "source": [
    "sns.boxplot(data = Ano)\n",
    "plt.xticks([],[])\n",
    "plt.show()"
   ]
  },
  {
   "cell_type": "markdown",
   "id": "f9382030",
   "metadata": {},
   "source": [
    "# "
   ]
  },
  {
   "cell_type": "markdown",
   "id": "d538e800",
   "metadata": {},
   "source": [
    "# "
   ]
  },
  {
   "cell_type": "markdown",
   "id": "1c3b50b4",
   "metadata": {},
   "source": [
    "# Terceira questão\n"
   ]
  },
  {
   "cell_type": "markdown",
   "id": "cf66bfb5",
   "metadata": {},
   "source": [
    "# Media\n"
   ]
  },
  {
   "cell_type": "code",
   "execution_count": 17,
   "id": "ad1e1335",
   "metadata": {},
   "outputs": [
    {
     "name": "stdout",
     "output_type": "stream",
     "text": [
      "Media dos valor pago: 52212.69977090493\n",
      " \n",
      "Media dos dias: 17.378006872852232\n"
     ]
    }
   ],
   "source": [
    "valor = dados['vl_pag'].mean()\n",
    "print(\"Media dos valores pagos:\" , valor)\n",
    "print(\" \")\n",
    "dias = dados['dias_para_pagamento'].mean()\n",
    "print(\"Media dos dias:\", dias)"
   ]
  },
  {
   "cell_type": "markdown",
   "id": "767180d8",
   "metadata": {},
   "source": [
    "# Mediana"
   ]
  },
  {
   "cell_type": "code",
   "execution_count": 18,
   "id": "40384a16",
   "metadata": {},
   "outputs": [
    {
     "name": "stdout",
     "output_type": "stream",
     "text": [
      "Mediana dos valor pago: 7542.38\n",
      " \n",
      "Mediana dos dias: 14.0\n"
     ]
    }
   ],
   "source": [
    "valor = dados['vl_pag'].median()\n",
    "print(\"Mediana dos valores pagos:\" , valor)\n",
    "print(\" \")\n",
    "dias = dados['dias_para_pagamento'].median()\n",
    "print(\"Mediana dos dias:\", dias)\n"
   ]
  },
  {
   "cell_type": "markdown",
   "id": "5d0c2c00",
   "metadata": {},
   "source": [
    "# Quantil"
   ]
  },
  {
   "cell_type": "code",
   "execution_count": 21,
   "id": "20a357d6",
   "metadata": {},
   "outputs": [
    {
     "name": "stdout",
     "output_type": "stream",
     "text": [
      "Quantil dos valor pago: 7542.38\n",
      " \n",
      "Quantil dos dias: 14.0\n",
      " \n",
      "Quantil dos valor pago com 25%: 2205.34\n",
      " \n",
      "Quantil dos dias com 25%: 7.0\n"
     ]
    }
   ],
   "source": [
    "valor = dados['vl_pag'].quantile()\n",
    "print(\"Quantil dos valores pagos:\" , valor)\n",
    "print(\" \")\n",
    "dias = dados['dias_para_pagamento'].quantile()\n",
    "print(\"Quantil dos dias:\", dias)\n",
    "\n",
    "print(\" \")\n",
    "valor = dados['vl_pag'].quantile(q=0.25)\n",
    "print(\"Quantil dos valores pagos com 25%:\" , valor)\n",
    "print(\" \")\n",
    "dias = dados['dias_para_pagamento'].quantile(q=0.25)\n",
    "print(\"Quantil dos dias com 25%:\", dias)\n"
   ]
  },
  {
   "cell_type": "markdown",
   "id": "bf157ac2",
   "metadata": {},
   "source": [
    "# Moda\n"
   ]
  },
  {
   "cell_type": "code",
   "execution_count": 22,
   "id": "7aa6eb12",
   "metadata": {},
   "outputs": [
    {
     "name": "stdout",
     "output_type": "stream",
     "text": [
      "Moda dos valor pago: 0    5610.0\n",
      "dtype: float64\n",
      " \n",
      "Moda dos dias: 0    14\n",
      "dtype: int64\n"
     ]
    }
   ],
   "source": [
    "valor = dados['vl_pag'].mode()\n",
    "print(\"Moda dos valores pagos:\" , valor)\n",
    "print(\" \")\n",
    "dias = dados['dias_para_pagamento'].mode()\n",
    "print(\"Moda dos dias:\", dias)\n",
    "\n"
   ]
  },
  {
   "cell_type": "markdown",
   "id": "edcf9376",
   "metadata": {},
   "source": [
    "# Amplitude"
   ]
  },
  {
   "cell_type": "code",
   "execution_count": 24,
   "id": "579e9a5d",
   "metadata": {},
   "outputs": [
    {
     "name": "stdout",
     "output_type": "stream",
     "text": [
      "Amplitude dos valor pago: 3493432.48\n",
      "Moda dos dias: 185\n"
     ]
    }
   ],
   "source": [
    "valor = (dados['vl_pag'].max() - dados['vl_pag'].min())\n",
    "print(\"Amplitude dos valores pagos:\" , valor)\n",
    "\n",
    "dias = (dados['dias_para_pagamento'].max() - dados['dias_para_pagamento'].min())\n",
    "print(\"Moda dos dias:\", dias)"
   ]
  },
  {
   "cell_type": "markdown",
   "id": "d70ef703",
   "metadata": {},
   "source": [
    "# Variância\n"
   ]
  },
  {
   "cell_type": "code",
   "execution_count": 25,
   "id": "6c39efcd",
   "metadata": {},
   "outputs": [
    {
     "name": "stdout",
     "output_type": "stream",
     "text": [
      "Variancia dos valor pago: 42981866369.026344\n",
      " \n",
      "Variancia dos dias: 283.48578044151117\n"
     ]
    }
   ],
   "source": [
    "valor = dados['vl_pag'].var()\n",
    "print(\"Variancia dos valores pagos:\" , valor)\n",
    "print(\" \")\n",
    "dias = dados['dias_para_pagamento'].var()\n",
    "print(\"Variancia dos dias:\", dias)\n",
    "\n"
   ]
  },
  {
   "cell_type": "markdown",
   "id": "904fb332",
   "metadata": {},
   "source": [
    "# Desvio Padrão\n"
   ]
  },
  {
   "cell_type": "code",
   "execution_count": 26,
   "id": "c01c23aa",
   "metadata": {},
   "outputs": [
    {
     "name": "stdout",
     "output_type": "stream",
     "text": [
      "Desvio Padrao dos valor pago: 207320.68485567556\n",
      " \n",
      "Desvio Padrao dos dias: 16.837035975536523\n"
     ]
    }
   ],
   "source": [
    "valor = dados['vl_pag'].std()\n",
    "print(\"Desvio Padrao dos valores pagos:\" , valor)\n",
    "print(\" \")\n",
    "dias = dados['dias_para_pagamento'].std()\n",
    "print(\"Desvio Padrao dos dias:\", dias)\n"
   ]
  },
  {
   "cell_type": "markdown",
   "id": "08903b5d",
   "metadata": {},
   "source": [
    "# Desvio absoluto\n"
   ]
  },
  {
   "cell_type": "code",
   "execution_count": 27,
   "id": "ac8b16e8",
   "metadata": {},
   "outputs": [
    {
     "name": "stdout",
     "output_type": "stream",
     "text": [
      "Desvio absoluto dos valor pago: 69993.92082850366\n",
      " \n",
      "Desvio absoluto dos dias: 10.898084182599009\n"
     ]
    }
   ],
   "source": [
    "valor = dados['vl_pag'].mad()\n",
    "print(\"Desvio absoluto dos valores pagos:\" , valor)\n",
    "print(\" \")\n",
    "dias = dados['dias_para_pagamento'].mad()\n",
    "print(\"Desvio absoluto dos dias:\", dias)\n"
   ]
  },
  {
   "cell_type": "markdown",
   "id": "79974c52",
   "metadata": {},
   "source": [
    "# Covariancia"
   ]
  },
  {
   "cell_type": "code",
   "execution_count": 28,
   "id": "a3f7b8a8",
   "metadata": {},
   "outputs": [
    {
     "name": "stdout",
     "output_type": "stream",
     "text": [
      "                           vl_pag  dias_para_pagamento\n",
      "vl_pag               4.298187e+10       -236219.992694\n",
      "dias_para_pagamento -2.362200e+05           283.485780\n"
     ]
    }
   ],
   "source": [
    "print(dados.cov())"
   ]
  },
  {
   "cell_type": "code",
   "execution_count": 29,
   "id": "9f2ed10e",
   "metadata": {},
   "outputs": [
    {
     "name": "stdout",
     "output_type": "stream",
     "text": [
      "                       vl_pag  dias_para_pagamento\n",
      "vl_pag               1.000000            -0.067672\n",
      "dias_para_pagamento -0.067672             1.000000\n"
     ]
    }
   ],
   "source": [
    "print(dados.corr())"
   ]
  },
  {
   "cell_type": "code",
   "execution_count": null,
   "id": "1a8c0237",
   "metadata": {},
   "outputs": [],
   "source": []
  }
 ],
 "metadata": {
  "kernelspec": {
   "display_name": "Python 3",
   "language": "python",
   "name": "python3"
  },
  "language_info": {
   "codemirror_mode": {
    "name": "ipython",
    "version": 3
   },
   "file_extension": ".py",
   "mimetype": "text/x-python",
   "name": "python",
   "nbconvert_exporter": "python",
   "pygments_lexer": "ipython3",
   "version": "3.9.5"
  }
 },
 "nbformat": 4,
 "nbformat_minor": 5
}
